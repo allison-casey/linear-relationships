{
 "cells": [
  {
   "cell_type": "code",
   "execution_count": 1,
   "metadata": {},
   "outputs": [],
   "source": [
    "import pandas as pd\n",
    "import requests\n",
    "import io\n",
    "import chardet\n",
    "import matplotlib.pyplot as plt"
   ]
  },
  {
   "cell_type": "code",
   "execution_count": 2,
   "metadata": {},
   "outputs": [],
   "source": [
    "players_url = \"https://raw.githubusercontent.com/sjcasey21/linear-relationships/master/datasets/players-seasons/Players.csv\"\n",
    "players_df = pd.read_csv(players_url, names=['player', 'height'])\n",
    "\n",
    "scores_url = \"https://raw.githubusercontent.com/sjcasey21/linear-relationships/master/datasets/players-seasons/Seasons_Stats.csv\"\n",
    "scores_df = pd.read_csv(scores_url, names=['player', 'score'])\n",
    "scores_df = scores_df.drop_duplicates('player', keep='last')"
   ]
  },
  {
   "cell_type": "code",
   "execution_count": 3,
   "metadata": {},
   "outputs": [],
   "source": [
    "df = pd.merge(players_df, scores_df, how='inner')"
   ]
  },
  {
   "cell_type": "code",
   "execution_count": 4,
   "metadata": {},
   "outputs": [],
   "source": [
    "df_filtered = pd.DataFrame([], columns=['player', 'height', 'score'])\n",
    "\n",
    "for group, frame in df.groupby('height'):\n",
    "    players = frame.sort_values(by='score', ascending=False).head(2)\n",
    "    if len(players) < 2:\n",
    "        continue\n",
    "    \n",
    "    \n",
    "    df_filtered = df_filtered.append(players)\n",
    "df_new = df_filtered.sort_values(by='height').reset_index()"
   ]
  },
  {
   "cell_type": "code",
   "execution_count": 5,
   "metadata": {},
   "outputs": [
    {
     "data": {
      "text/plain": [
       "<matplotlib.axes._subplots.AxesSubplot at 0x7fdca865d2b0>"
      ]
     },
     "execution_count": 5,
     "metadata": {},
     "output_type": "execute_result"
    },
    {
     "data": {
      "image/png": "[encoded data removed]",
      "text/plain": [
       "<Figure size 432x288 with 1 Axes>"
      ]
     },
     "metadata": {
      "needs_background": "light"
     },
     "output_type": "display_data"
    }
   ],
   "source": [
    "df_new.plot(kind='scatter', x='height', y='score')"
   ]
  },
  {
   "cell_type": "code",
   "execution_count": 10,
   "metadata": {},
   "outputs": [],
   "source": [
    "sample = df_new[df_new['height'] < 200]"
   ]
  },
  {
   "cell_type": "code",
   "execution_count": 11,
   "metadata": {},
   "outputs": [],
   "source": [
    "sample.to_csv('../out/basketball-height.csv', index=False)"
   ]
  },
  {
   "cell_type": "code",
   "execution_count": null,
   "metadata": {},
   "outputs": [],
   "source": []
  }
 ],
 "metadata": {
  "kernelspec": {
   "display_name": "Python 3",
   "language": "python",
   "name": "python3"
  },
  "language_info": {
   "codemirror_mode": {
    "name": "ipython",
    "version": 3
   },
   "file_extension": ".py",
   "mimetype": "text/x-python",
   "name": "python",
   "nbconvert_exporter": "python",
   "pygments_lexer": "ipython3",
   "version": "3.7.2"
  }
 },
 "nbformat": 4,
 "nbformat_minor": 2
}
